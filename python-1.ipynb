{
 "cells": [
  {
   "attachments": {},
   "cell_type": "markdown",
   "metadata": {},
   "source": [
    "### Dicionários\n",
    "\n",
    "Discionarios são estruturas de dados que trabalham com keys (campos) ao inves de índices. Colocamos toda estrutura entre chaves. Os campos(key) e valores (values) sâo separados por dois pontos (:)\n",
    "\n",
    "### Criando um Dicionário vazio \n"
   ]
  },
  {
   "cell_type": "code",
   "execution_count": null,
   "metadata": {},
   "outputs": [],
   "source": [
    "dados = dict() # ou dadps = {}\n",
    "\n",
    "dados = {\n",
    "    'nome': 'Luiza Ignacio Gomes',\n",
    "    'idade': 19,\n",
    "}\n",
    "\n",
    "print(dados)"
   ]
  },
  {
   "attachments": {},
   "cell_type": "markdown",
   "metadata": {},
   "source": [
    "### Acrescente um key (campo)"
   ]
  },
  {
   "cell_type": "code",
   "execution_count": null,
   "metadata": {},
   "outputs": [],
   "source": [
    "#Exibindo o estado do discionario \n",
    "print(dados)\n",
    "dados[\"email\"]= 'luiza@fiap.com.br'\n",
    "print(dados)"
   ]
  }
 ],
 "metadata": {
  "kernelspec": {
   "display_name": "Python 3",
   "language": "python",
   "name": "python3"
  },
  "language_info": {
   "name": "python",
   "version": "3.11.4"
  },
  "orig_nbformat": 4
 },
 "nbformat": 4,
 "nbformat_minor": 2
}
