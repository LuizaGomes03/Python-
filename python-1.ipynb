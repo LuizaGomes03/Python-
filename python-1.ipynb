{
 "cells": [
  {
   "attachments": {},
   "cell_type": "markdown",
   "metadata": {},
   "source": [
    "### Dicionários\n",
    "\n",
    "Discionarios são estruturas de dados que trabalham com keys (campos) ao inves de índices. Colocamos toda estrutura entre chaves. Os campos(key) e valores (values) sâo separados por dois pontos (:)\n",
    "\n",
    "### Criando um Dicionário vazio \n"
   ]
  },
  {
   "cell_type": "code",
   "execution_count": 14,
   "metadata": {},
   "outputs": [
    {
     "name": "stdout",
     "output_type": "stream",
     "text": [
      "{'nome': 'Luiza Ignacio Gomes', 'idade': 19}\n"
     ]
    }
   ],
   "source": [
    "dados = dict() # ou dadps = {}\n",
    "\n",
    "dados = {\n",
    "    'nome': 'Luiza Ignacio Gomes',\n",
    "    'idade': 19,\n",
    "}\n",
    "\n",
    "print(dados)"
   ]
  },
  {
   "attachments": {},
   "cell_type": "markdown",
   "metadata": {},
   "source": [
    "### Acrescente um key (campo)"
   ]
  },
  {
   "cell_type": "code",
   "execution_count": 3,
   "metadata": {},
   "outputs": [
    {
     "name": "stdout",
     "output_type": "stream",
     "text": [
      "{'nome': 'Luiza Ignacio Gomes', 'idade': 19}\n",
      "{'nome': 'Luiza Ignacio Gomes', 'idade': 19, 'email': 'luiza@fiap.com.br'}\n"
     ]
    }
   ],
   "source": [
    "#Exibindo o estado do discionario \n",
    "print(dados)\n",
    "dados[\"email\"]= 'luiza@fiap.com.br'\n",
    "print(dados)"
   ]
  },
  {
   "attachments": {},
   "cell_type": "markdown",
   "metadata": {},
   "source": [
    "### Excluindo uma key "
   ]
  },
  {
   "cell_type": "code",
   "execution_count": 4,
   "metadata": {},
   "outputs": [
    {
     "name": "stdout",
     "output_type": "stream",
     "text": [
      "{'nome': 'Luiza Ignacio Gomes', 'idade': 19, 'email': 'luiza@fiap.com.br'}\n",
      "{'nome': 'Luiza Ignacio Gomes', 'email': 'luiza@fiap.com.br'}\n"
     ]
    }
   ],
   "source": [
    "print(dados)\n",
    "del dados[\"idade\"]\n",
    "print(dados)"
   ]
  },
  {
   "attachments": {},
   "cell_type": "markdown",
   "metadata": {},
   "source": [
    "### Exibindo os campos, valores "
   ]
  },
  {
   "cell_type": "code",
   "execution_count": 5,
   "metadata": {},
   "outputs": [
    {
     "name": "stdout",
     "output_type": "stream",
     "text": [
      "Luiza Ignacio Gomes\n",
      "19\n",
      "luiza@fiap.com.br\n"
     ]
    }
   ],
   "source": [
    "dados = {\n",
    "    'nome': 'Luiza Ignacio Gomes',\n",
    "    'idade': 19,\n",
    "    'email': 'luiza@fiap.com.br'\n",
    "}\n",
    "\n",
    "print(dados['nome'])\n",
    "print(dados['idade'])\n",
    "print(dados['email'])"
   ]
  },
  {
   "attachments": {},
   "cell_type": "markdown",
   "metadata": {},
   "source": [
    "### Metodos relacionados a dicionarios \n",
    "\n",
    "#### values"
   ]
  },
  {
   "attachments": {},
   "cell_type": "markdown",
   "metadata": {},
   "source": [
    "#### O método values mostra todos os valores contidos no discionario"
   ]
  },
  {
   "cell_type": "code",
   "execution_count": 6,
   "metadata": {},
   "outputs": [
    {
     "name": "stdout",
     "output_type": "stream",
     "text": [
      "Valores do discioário: dict_values(['Luiza Ignacio Gomes', 19, 'luiza@fiap.com.br'])]\n",
      "['Luiza Ignacio Gomes', 19, 'luiza@fiap.com.br']\n",
      "Luiza Ignacio Gomes\n"
     ]
    }
   ],
   "source": [
    "print(f\"Valores do discioário: {dados.values()}]\")\n",
    "#lista = dados.values()\n",
    "#print(lista)\n",
    "#print(lista[0])\n",
    "lista = list(dados.values())\n",
    "print(lista)\n",
    "print(lista[0])"
   ]
  },
  {
   "attachments": {},
   "cell_type": "markdown",
   "metadata": {},
   "source": [
    "### Keys( )\n",
    "\n",
    "### O metodo keys mostra o nome de todos os campos (keys) "
   ]
  },
  {
   "cell_type": "code",
   "execution_count": 7,
   "metadata": {},
   "outputs": [
    {
     "name": "stdout",
     "output_type": "stream",
     "text": [
      "Campos do discionário:dict_keys(['nome', 'idade', 'email'])\n"
     ]
    }
   ],
   "source": [
    "print(f\"Campos do discionário:{dados.keys()}\")"
   ]
  },
  {
   "attachments": {},
   "cell_type": "markdown",
   "metadata": {},
   "source": [
    "### Itens()\n",
    "\n",
    "#### O método items retorna tanto a key quanto o value (campos e valores respectivamente)"
   ]
  },
  {
   "cell_type": "code",
   "execution_count": 8,
   "metadata": {},
   "outputs": [
    {
     "name": "stdout",
     "output_type": "stream",
     "text": [
      "dict_items([('nome', 'Luiza Ignacio Gomes'), ('idade', 19), ('email', 'luiza@fiap.com.br')])\n",
      "{'nome': 'Luiza Ignacio Gomes', 'idade': 19, 'email': 'luiza@fiap.com.br'}\n"
     ]
    }
   ],
   "source": [
    "print(dados.items())\n",
    "print(dados)"
   ]
  },
  {
   "attachments": {},
   "cell_type": "markdown",
   "metadata": {},
   "source": [
    "#### Exemplos:"
   ]
  },
  {
   "cell_type": "code",
   "execution_count": 13,
   "metadata": {},
   "outputs": [
    {
     "name": "stdout",
     "output_type": "stream",
     "text": [
      "{'nome': 'Luiza Ignacio Gomes', 'idade': 19, 'email': 'luiza@fiap.com.br'}\n",
      "\n",
      "Nome............:Luiza Ignacio Gomes\n",
      "Idade............:19\n",
      "E-mail............:luiza@fiap.com.br\n",
      " O campo nome tem o conteúdo de Luiza Ignacio Gomes\n",
      " O campo idade tem o conteúdo de 19\n",
      " O campo email tem o conteúdo de luiza@fiap.com.br\n",
      "\n",
      "nome: Luiza Ignacio Gomes\n",
      "idade: 19\n",
      "email: luiza@fiap.com.br\n",
      "endereço: Rua tal\n"
     ]
    }
   ],
   "source": [
    "# exibindo o discionário bruto\n",
    "print(dados)\n",
    "\n",
    "#Exibindo elemento a elemento \n",
    "print(f\"\\nNome............:{dados['nome']}\")\n",
    "print(f\"Idade............:{dados['idade']}\")\n",
    "print(f\"E-mail............:{dados['email']}\")\n",
    "\n",
    "#Exibindo capturando os elementos \n",
    "for k, v in dados.items():\n",
    "    print(f\" O campo {k} tem o conteúdo de {v}\")\n",
    "\n",
    "print() \n",
    "dados['endereço'] = \"Rua tal\"\n",
    "for k, v in dados.items():\n",
    "    print(f\"{k}: {v}\") #k = keu=ys e v = values "
   ]
  },
  {
   "attachments": {},
   "cell_type": "markdown",
   "metadata": {},
   "source": [
    "### Exercício \n",
    "\n",
    "#### Crie um dicionário com 5 campos a sua escolha (preferencialmente use tipos diferente) e faça as seguintes operações:\n",
    "\n",
    "1 - Exibir todo o conteudo do dicionário <br>\n",
    "2 - Inserir um campo no dicionario <br>\n",
    "3 - Alterar o valor de um campo <br>\n",
    "4 - Exibir um campo específico <br>\n",
    "5 - Remover um campo específico <br>\n",
    "\n",
    " Depois de concluir cada exercício, crie um menu(semelhante à exposição acima) que trate as operações.\n",
    "\n",
    "* Considere aplicar todo conceito com subalgoritmos"
   ]
  },
  {
   "cell_type": "code",
   "execution_count": 21,
   "metadata": {},
   "outputs": [
    {
     "name": "stdout",
     "output_type": "stream",
     "text": [
      "{'nome': 'Luiza Ignacio Gomes', 'idade': 19, 'data': 2003, 'e-mail': 'luiza@fiap.com', 'sexo': 'fem.'}\n"
     ]
    }
   ],
   "source": [
    "dados = dict() # ou dadps = {}\n",
    "\n",
    "dados = {\n",
    "    'nome': 'Luiza Ignacio Gomes',\n",
    "    'idade': 19,\n",
    "    'data': 2003,\n",
    "    'e-mail': 'luiza@fiap.com',\n",
    "    'sexo': 'fem.'\n",
    "}\n",
    "\n",
    "print(dados)\n"
   ]
  },
  {
   "cell_type": "code",
   "execution_count": 22,
   "metadata": {},
   "outputs": [
    {
     "name": "stdout",
     "output_type": "stream",
     "text": [
      "{'nome': 'Luiza Ignacio Gomes', 'idade': 19, 'data': 2003, 'e-mail': 'luiza@fiap.com', 'sexo': 'fem.'}\n",
      "{'nome': 'Luiza Ignacio Gomes', 'idade': 19, 'data': 2003, 'e-mail': 'luiza@fiap.com', 'sexo': 'fem.', 'endereço': 'r. marechal'}\n"
     ]
    }
   ],
   "source": [
    "#2\n",
    "print(dados)\n",
    "dados[\"endereço\"]= 'r. marechal'\n",
    "print(dados)"
   ]
  },
  {
   "cell_type": "code",
   "execution_count": null,
   "metadata": {},
   "outputs": [],
   "source": [
    "#3\n"
   ]
  }
 ],
 "metadata": {
  "kernelspec": {
   "display_name": "Python 3",
   "language": "python",
   "name": "python3"
  },
  "language_info": {
   "codemirror_mode": {
    "name": "ipython",
    "version": 3
   },
   "file_extension": ".py",
   "mimetype": "text/x-python",
   "name": "python",
   "nbconvert_exporter": "python",
   "pygments_lexer": "ipython3",
   "version": "3.11.4"
  },
  "orig_nbformat": 4
 },
 "nbformat": 4,
 "nbformat_minor": 2
}
